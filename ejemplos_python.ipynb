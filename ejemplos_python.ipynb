{
  "nbformat": 4,
  "nbformat_minor": 0,
  "metadata": {
    "colab": {
      "provenance": [],
      "authorship_tag": "ABX9TyMku8TMUEw6PbaQqU2fRRHw",
      "include_colab_link": true
    },
    "kernelspec": {
      "name": "python3",
      "display_name": "Python 3"
    },
    "language_info": {
      "name": "python"
    }
  },
  "cells": [
    {
      "cell_type": "markdown",
      "metadata": {
        "id": "view-in-github",
        "colab_type": "text"
      },
      "source": [
        "<a href=\"https://colab.research.google.com/github/darkroot192-sudo/Aprende-python-desde-cero/blob/main/ejemplos_python.ipynb\" target=\"_parent\"><img src=\"https://colab.research.google.com/assets/colab-badge.svg\" alt=\"Open In Colab\"/></a>"
      ]
    },
    {
      "cell_type": "markdown",
      "metadata": {
        "id": "759e8309"
      },
      "source": [
        "# 📘 Ejemplos básicos de Python\n",
        "\n",
        "---\n",
        "\n",
        "## ✅ Ejemplo 1 – Clasificador simple\n"
      ]
    },
    {
      "cell_type": "code",
      "source": [
        "\n",
        "def clasificar_edad(edad):\n",
        "    if edad < 0:\n",
        "        return \"Inválida\"\n",
        "    elif edad < 18:\n",
        "        return \"Menor\"\n",
        "    else:\n",
        "        return \"Adulto\"\n",
        "\n",
        "print(clasificar_edad(17))  # → Menor\n"
      ],
      "metadata": {
        "id": "uEB7t1Tj2cmd"
      },
      "execution_count": null,
      "outputs": []
    },
    {
      "cell_type": "markdown",
      "source": [
        "🧠 Aquí dominas: def, if, comparación, retorno de valores."
      ],
      "metadata": {
        "id": "29oS7WD52lqY"
      }
    },
    {
      "cell_type": "markdown",
      "source": [
        "✅ Ejemplo 2 – Sumar todos los pares\n",
        "\n",
        "Usa: bucle, condición, operadores, función, tipos básicos"
      ],
      "metadata": {
        "id": "iI7BgpTm2nuG"
      }
    },
    {
      "cell_type": "code",
      "source": [
        "def suma_pares(lista):\n",
        "    total = 0\n",
        "    for n in lista:\n",
        "        if n % 2 == 0:\n",
        "            total += n\n",
        "    return total\n",
        "\n",
        "print(suma_pares([1, 2, 3, 4]))  # → 6\n"
      ],
      "metadata": {
        "id": "TlYFuTF92uVl"
      },
      "execution_count": null,
      "outputs": []
    },
    {
      "cell_type": "markdown",
      "source": [
        "⚠️ Importante: *%* es módulo. total += n es acumulación."
      ],
      "metadata": {
        "id": "Hzb246Xy2xG-"
      }
    },
    {
      "cell_type": "markdown",
      "source": [
        "✅ Ejemplo 3 – Función con *args*\n",
        "\n",
        "Usa: argumentos variables, tipos, operadores"
      ],
      "metadata": {
        "id": "SkVi8Z3_22MU"
      }
    },
    {
      "cell_type": "code",
      "source": [
        "def multiplicar_todo(*numeros):\n",
        "    resultado = 1\n",
        "    for n in numeros:\n",
        "        resultado *= n\n",
        "    return resultado\n",
        "\n",
        "print(multiplicar_todo(2, 3, 4))  # → 24\n"
      ],
      "metadata": {
        "id": "Vvij19vS3KJM"
      },
      "execution_count": null,
      "outputs": []
    },
    {
      "cell_type": "markdown",
      "source": [
        "📌 *args* → tupla de inputs."
      ],
      "metadata": {
        "id": "EeTgKAgQ3Mcu"
      }
    },
    {
      "cell_type": "markdown",
      "source": [
        "✅ Ejemplo 4 – Diccionario con condición\n",
        "\n",
        "Usa: tipos complejos, control de flujo, operadores"
      ],
      "metadata": {
        "id": "Xn-5QFhV3X6R"
      }
    },
    {
      "cell_type": "code",
      "source": [
        "usuario = {\"nombre\": \"Uno\", \"edad\": 35}\n",
        "\n",
        "if usuario[\"edad\"] >= 18:\n",
        "    print(f\"{usuario['nombre']} es mayor de edad\")\n",
        "else:\n",
        "    print(\"Es menor\")\n"
      ],
      "metadata": {
        "colab": {
          "base_uri": "https://localhost:8080/"
        },
        "id": "A9a6marv3nQq",
        "outputId": "c464263b-1b7c-4d19-a22d-0e05c65f304f"
      },
      "execution_count": null,
      "outputs": [
        {
          "output_type": "stream",
          "name": "stdout",
          "text": [
            "Uno es mayor de edad\n"
          ]
        }
      ]
    },
    {
      "cell_type": "markdown",
      "source": [
        "⚠️ Los dict acceden por clave (usuario[\"clave\"])."
      ],
      "metadata": {
        "id": "g_y53WNx3xFA"
      }
    },
    {
      "cell_type": "markdown",
      "source": [
        "✅ Ejemplo 5 – Contador con range()\n",
        "\n",
        "Usa: bucles, tipo int, funciones"
      ],
      "metadata": {
        "id": "bIMZnp8I326m"
      }
    },
    {
      "cell_type": "code",
      "source": [
        "def contar_hasta(n):\n",
        "    for i in range(1, n + 1):\n",
        "        print(i)\n",
        "\n",
        "contar_hasta(5)  # → 1 2 3 4 5\n"
      ],
      "metadata": {
        "colab": {
          "base_uri": "https://localhost:8080/"
        },
        "id": "JP-ynDdD36hd",
        "outputId": "e2177f5d-193c-4e14-8219-7c42cd505b34"
      },
      "execution_count": null,
      "outputs": [
        {
          "output_type": "stream",
          "name": "stdout",
          "text": [
            "1\n",
            "2\n",
            "3\n",
            "4\n",
            "5\n"
          ]
        }
      ]
    },
    {
      "cell_type": "markdown",
      "source": [
        "📌 range(1, n+1) incluye el *n*."
      ],
      "metadata": {
        "id": "YiewznR33_Jw"
      }
    },
    {
      "cell_type": "markdown",
      "source": [
        "✅ Ejemplo 6 – Bucle while\n",
        "\n",
        "Usa: control de flujo, condición, incremento"
      ],
      "metadata": {
        "id": "ZMTRoKgC4Ihx"
      }
    },
    {
      "cell_type": "code",
      "source": [
        "def cuenta_regresiva(n):\n",
        "    while n > 0:\n",
        "        print(n)\n",
        "        n -= 1\n",
        "    print(\"¡Despegue!\")\n",
        "\n",
        "cuenta_regresiva(3)\n",
        "# → 3 2 1 ¡Despegue!\n"
      ],
      "metadata": {
        "id": "Ts1ZwEnE4NY5"
      },
      "execution_count": null,
      "outputs": []
    },
    {
      "cell_type": "markdown",
      "source": [
        "📌 Se repite mientras la condición sea verdadera."
      ],
      "metadata": {
        "id": "MgA7tlAH4PY3"
      }
    },
    {
      "cell_type": "markdown",
      "source": [
        "✅ Ejemplo 7 – Manejo de errores (try/except)\n",
        "\n",
        "Usa: excepciones, control de flujo"
      ],
      "metadata": {
        "id": "9er8hqn34SGY"
      }
    },
    {
      "cell_type": "code",
      "source": [
        "try:\n",
        "    num = int(\"abc\")\n",
        "except ValueError:\n",
        "    print(\"Error: no es un número válido\")\n"
      ],
      "metadata": {
        "id": "xJAD9srp4caf"
      },
      "execution_count": null,
      "outputs": []
    },
    {
      "cell_type": "markdown",
      "source": [
        "📌 Evita que el programa se detenga por errores."
      ],
      "metadata": {
        "id": "ZQrUTO9Z4hZy"
      }
    },
    {
      "cell_type": "markdown",
      "source": [
        "✅ Ejemplo 8 – Uso de kwargs\n",
        "\n",
        "Usa: argumentos nombrados variables"
      ],
      "metadata": {
        "id": "zUjx7C4643Nz"
      }
    },
    {
      "cell_type": "code",
      "source": [
        "def mostrar_info(**kwargs):\n",
        "    for clave, valor in kwargs.items():\n",
        "        print(f\"{clave} → {valor}\")\n",
        "\n",
        "mostrar_info(nombre=\"Ana\", edad=20, ciudad=\"México\")\n"
      ],
      "metadata": {
        "id": "ULvFi3Ny5Ebj"
      },
      "execution_count": null,
      "outputs": []
    },
    {
      "cell_type": "markdown",
      "source": [
        "📌 *kwargs* convierte argumentos nombrados en un diccionario."
      ],
      "metadata": {
        "id": "l3L2NiIa-ybL"
      }
    },
    {
      "cell_type": "markdown",
      "source": [
        "✅ Ejemplo 9 – Conjuntos (set)\n",
        "\n",
        "Usa: tipos, operaciones de conjuntos"
      ],
      "metadata": {
        "id": "HByNXhnm_FUS"
      }
    },
    {
      "cell_type": "code",
      "source": [
        "a = {1, 2, 3}\n",
        "b = {3, 4, 5}\n",
        "print(a | b)  # unión → {1, 2, 3, 4, 5}\n",
        "print(a & b)  # intersección → {3}\n"
      ],
      "metadata": {
        "id": "uSSZYG3R_OMY"
      },
      "execution_count": null,
      "outputs": []
    },
    {
      "cell_type": "markdown",
      "source": [
        "📌 Los set no permiten duplicados."
      ],
      "metadata": {
        "id": "L7LlWHaW_Wf1"
      }
    },
    {
      "cell_type": "markdown",
      "source": [
        "✅ Ejemplo 10 – Función recursiva\n",
        "\n",
        "Usa: funciones, llamadas a sí mismas"
      ],
      "metadata": {
        "id": "mCx_iPhV_axK"
      }
    },
    {
      "cell_type": "code",
      "source": [
        "def factorial(n):\n",
        "    if n == 0:\n",
        "        return 1\n",
        "    return n * factorial(n - 1)\n",
        "\n",
        "print(factorial(5))  # → 120\n"
      ],
      "metadata": {
        "id": "rs_-7BTE_iwy"
      },
      "execution_count": null,
      "outputs": []
    },
    {
      "cell_type": "markdown",
      "source": [
        "📌 Resuelve problemas llamándose a sí misma."
      ],
      "metadata": {
        "id": "FS2j5yJY_rn9"
      }
    },
    {
      "cell_type": "markdown",
      "source": [
        "✅ Ejemplo 11 – Listas por comprensión\n",
        "\n",
        "Usa: bucles, listas, expresiones"
      ],
      "metadata": {
        "id": "leZ8XseP_to1"
      }
    },
    {
      "cell_type": "code",
      "source": [
        "cuadrados = [x**2 for x in range(5)]\n",
        "print(cuadrados)  # → [0, 1, 4, 9, 16]\n"
      ],
      "metadata": {
        "id": "gYOBJ7Fv_xAQ"
      },
      "execution_count": null,
      "outputs": []
    },
    {
      "cell_type": "markdown",
      "source": [
        "📌 Forma compacta y eficiente de crear listas."
      ],
      "metadata": {
        "id": "dQ-n0QaI_2VF"
      }
    },
    {
      "cell_type": "markdown",
      "source": [],
      "metadata": {
        "id": "LuhJeCp3_3Jg"
      }
    }
  ]
}